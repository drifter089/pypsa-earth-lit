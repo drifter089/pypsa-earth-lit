{
 "cells": [
  {
   "cell_type": "code",
   "execution_count": 1,
   "metadata": {},
   "outputs": [],
   "source": [
    "import os\n",
    "import pathlib\n",
    "\n",
    "import pandas as pd\n",
    "import pypsa\n",
    "import numpy as np\n",
    "import plotly.express as px\n",
    "import xarray as xr\n"
   ]
  },
  {
   "cell_type": "code",
   "execution_count": 2,
   "metadata": {},
   "outputs": [],
   "source": [
    "\n",
    "def get_network_map(pypsa_earth_path):\n",
    "    RESULTS_DIR=os.path.join(pypsa_earth_path,\"results\")\n",
    "    networks = {}\n",
    "    for dir in os.listdir(RESULTS_DIR):\n",
    "        entry = pathlib.Path(RESULTS_DIR, dir)\n",
    "        if not entry.is_dir():\n",
    "             continue\n",
    "\n",
    "\n",
    "\n",
    "        for dir_child in os.listdir(pathlib.Path(entry, \"networks\")):\n",
    "            if not dir_child.endswith(\".nc\"):\n",
    "                continue\n",
    "            networks[(dir, dir_child)] = pypsa.Network(pathlib.Path(entry, \"networks\", dir_child))\n",
    "    print(networks)\n",
    "    return networks\n",
    "\n"
   ]
  },
  {
   "cell_type": "code",
   "execution_count": 3,
   "metadata": {},
   "outputs": [
    {
     "name": "stderr",
     "output_type": "stream",
     "text": [
      "WARNING:pypsa.io:Importing network from PyPSA version v0.22.1 while current version is v0.23.0. Read the release notes at https://pypsa.readthedocs.io/en/latest/release_notes.html to prepare your network for import.\n",
      "INFO:pypsa.io:Imported network elec_s_10_ec_lcopt_Co2L-4H.nc has buses, carriers, generators, global_constraints, lines, links, loads, storage_units, stores\n",
      "WARNING:pypsa.io:Importing network from PyPSA version v0.22.1 while current version is v0.23.0. Read the release notes at https://pypsa.readthedocs.io/en/latest/release_notes.html to prepare your network for import.\n",
      "INFO:pypsa.io:Imported network elec_s_10_ec_lcopt_Co2L-4H.nc has buses, carriers, generators, global_constraints, lines, links, loads, storage_units, stores\n",
      "WARNING:pypsa.io:Importing network from PyPSA version v0.22.1 while current version is v0.23.0. Read the release notes at https://pypsa.readthedocs.io/en/latest/release_notes.html to prepare your network for import.\n",
      "INFO:pypsa.io:Imported network elec_s_10_ec_lcopt_Co2L-4H.nc has buses, carriers, generators, global_constraints, lines, links, loads, storage_units, stores\n"
     ]
    },
    {
     "name": "stdout",
     "output_type": "stream",
     "text": [
      "{('MA', 'elec_s_10_ec_lcopt_Co2L-4H.nc'): PyPSA Network\n",
      "Components:\n",
      " - Bus: 30\n",
      " - Carrier: 18\n",
      " - Generator: 42\n",
      " - GlobalConstraint: 1\n",
      " - Line: 13\n",
      " - Link: 40\n",
      " - Load: 10\n",
      " - StorageUnit: 6\n",
      " - Store: 20\n",
      "Snapshots: 36, ('NG', 'elec_s_10_ec_lcopt_Co2L-4H.nc'): PyPSA Network\n",
      "Components:\n",
      " - Bus: 33\n",
      " - Carrier: 18\n",
      " - Generator: 42\n",
      " - GlobalConstraint: 1\n",
      " - Line: 11\n",
      " - Link: 44\n",
      " - Load: 11\n",
      " - StorageUnit: 2\n",
      " - Store: 22\n",
      "Snapshots: 36, ('NG_no_oil', 'elec_s_10_ec_lcopt_Co2L-4H.nc'): PyPSA Network\n",
      "Components:\n",
      " - Bus: 33\n",
      " - Carrier: 16\n",
      " - Generator: 40\n",
      " - GlobalConstraint: 1\n",
      " - Line: 11\n",
      " - Link: 44\n",
      " - Load: 11\n",
      " - StorageUnit: 2\n",
      " - Store: 22\n",
      "Snapshots: 36}\n"
     ]
    }
   ],
   "source": [
    "network_map=get_network_map(\"../pypsa-earth\")"
   ]
  },
  {
   "cell_type": "code",
   "execution_count": 4,
   "metadata": {},
   "outputs": [
    {
     "name": "stdout",
     "output_type": "stream",
     "text": [
      "[1.55685243e-01 3.69973086e-19]\n",
      "[1.74397064e-01 9.75284611e-19]\n",
      "[1.74400172e-01 1.35849712e-12]\n"
     ]
    }
   ],
   "source": [
    "for _, network in network_map.items():\n",
    "    print(network.statistics()[\"Capacity Factor\"].loc[\"Generator\"][[\"Solar\", \"load\"]].values)"
   ]
  },
  {
   "cell_type": "code",
   "execution_count": 5,
   "metadata": {},
   "outputs": [
    {
     "data": {
      "text/plain": [
       "<bound method Mapping.values of <xarray.Dataset>\n",
       "Dimensions:           (time: 144, bus: 157, y: 34, x: 42)\n",
       "Coordinates:\n",
       "  * time              (time) datetime64[ns] 2013-03-01 ... 2013-03-06T23:00:00\n",
       "  * bus               (bus) object '0' '2' '4' '5' ... '195' '196' '197' '198'\n",
       "  * y                 (y) float64 4.2 4.5 4.8 5.1 5.4 ... 13.2 13.5 13.8 14.1\n",
       "  * x                 (x) float64 2.4 2.7 3.0 3.3 3.6 ... 13.8 14.1 14.4 14.7\n",
       "Data variables:\n",
       "    profile           (time, bus) float64 ...\n",
       "    weight            (bus) float64 ...\n",
       "    p_nom_max         (bus) float64 ...\n",
       "    potential         (y, x) float64 ...\n",
       "    average_distance  (bus) float64 ...>"
      ]
     },
     "execution_count": 5,
     "metadata": {},
     "output_type": "execute_result"
    }
   ],
   "source": [
    "da=xr.open_dataset(\"../data/resources/NG/renewable_profiles/profile_solar.nc\")\n",
    "\n",
    "da.values"
   ]
  },
  {
   "cell_type": "code",
   "execution_count": 6,
   "metadata": {},
   "outputs": [
    {
     "data": {
      "text/plain": [
       "KeysView(<xarray.Dataset>\n",
       "Dimensions:           (time: 144, bus: 157, y: 34, x: 42)\n",
       "Coordinates:\n",
       "  * time              (time) datetime64[ns] 2013-03-01 ... 2013-03-06T23:00:00\n",
       "  * bus               (bus) object '0' '2' '4' '5' ... '195' '196' '197' '198'\n",
       "  * y                 (y) float64 4.2 4.5 4.8 5.1 5.4 ... 13.2 13.5 13.8 14.1\n",
       "  * x                 (x) float64 2.4 2.7 3.0 3.3 3.6 ... 13.8 14.1 14.4 14.7\n",
       "Data variables:\n",
       "    profile           (time, bus) float64 ...\n",
       "    weight            (bus) float64 ...\n",
       "    p_nom_max         (bus) float64 ...\n",
       "    potential         (y, x) float64 ...\n",
       "    average_distance  (bus) float64 ...)"
      ]
     },
     "execution_count": 6,
     "metadata": {},
     "output_type": "execute_result"
    }
   ],
   "source": [
    "da.keys()"
   ]
  },
  {
   "cell_type": "code",
   "execution_count": 7,
   "metadata": {},
   "outputs": [
    {
     "data": {
      "text/plain": [
       "ItemsView(<xarray.Dataset>\n",
       "Dimensions:           (time: 144, bus: 157, y: 34, x: 42)\n",
       "Coordinates:\n",
       "  * time              (time) datetime64[ns] 2013-03-01 ... 2013-03-06T23:00:00\n",
       "  * bus               (bus) object '0' '2' '4' '5' ... '195' '196' '197' '198'\n",
       "  * y                 (y) float64 4.2 4.5 4.8 5.1 5.4 ... 13.2 13.5 13.8 14.1\n",
       "  * x                 (x) float64 2.4 2.7 3.0 3.3 3.6 ... 13.8 14.1 14.4 14.7\n",
       "Data variables:\n",
       "    profile           (time, bus) float64 ...\n",
       "    weight            (bus) float64 ...\n",
       "    p_nom_max         (bus) float64 ...\n",
       "    potential         (y, x) float64 ...\n",
       "    average_distance  (bus) float64 ...)"
      ]
     },
     "execution_count": 7,
     "metadata": {},
     "output_type": "execute_result"
    }
   ],
   "source": [
    "da.items()"
   ]
  },
  {
   "cell_type": "code",
   "execution_count": 8,
   "metadata": {},
   "outputs": [
    {
     "data": {
      "text/html": [
       "<div>\n",
       "<style scoped>\n",
       "    .dataframe tbody tr th:only-of-type {\n",
       "        vertical-align: middle;\n",
       "    }\n",
       "\n",
       "    .dataframe tbody tr th {\n",
       "        vertical-align: top;\n",
       "    }\n",
       "\n",
       "    .dataframe thead th {\n",
       "        text-align: right;\n",
       "    }\n",
       "</style>\n",
       "<table border=\"1\" class=\"dataframe\">\n",
       "  <thead>\n",
       "    <tr style=\"text-align: right;\">\n",
       "      <th></th>\n",
       "      <th></th>\n",
       "      <th></th>\n",
       "      <th></th>\n",
       "      <th>profile</th>\n",
       "      <th>weight</th>\n",
       "      <th>p_nom_max</th>\n",
       "      <th>potential</th>\n",
       "      <th>average_distance</th>\n",
       "    </tr>\n",
       "    <tr>\n",
       "      <th>time</th>\n",
       "      <th>bus</th>\n",
       "      <th>y</th>\n",
       "      <th>x</th>\n",
       "      <th></th>\n",
       "      <th></th>\n",
       "      <th></th>\n",
       "      <th></th>\n",
       "      <th></th>\n",
       "    </tr>\n",
       "  </thead>\n",
       "  <tbody>\n",
       "    <tr>\n",
       "      <th rowspan=\"5\" valign=\"top\">2013-03-01 00:00:00</th>\n",
       "      <th rowspan=\"5\" valign=\"top\">0</th>\n",
       "      <th rowspan=\"5\" valign=\"top\">4.2</th>\n",
       "      <th>2.4</th>\n",
       "      <td>0.0</td>\n",
       "      <td>1986.826712</td>\n",
       "      <td>11132.924304</td>\n",
       "      <td>0.0</td>\n",
       "      <td>37.391130</td>\n",
       "    </tr>\n",
       "    <tr>\n",
       "      <th>2.7</th>\n",
       "      <td>0.0</td>\n",
       "      <td>1986.826712</td>\n",
       "      <td>11132.924304</td>\n",
       "      <td>0.0</td>\n",
       "      <td>37.391130</td>\n",
       "    </tr>\n",
       "    <tr>\n",
       "      <th>3.0</th>\n",
       "      <td>0.0</td>\n",
       "      <td>1986.826712</td>\n",
       "      <td>11132.924304</td>\n",
       "      <td>0.0</td>\n",
       "      <td>37.391130</td>\n",
       "    </tr>\n",
       "    <tr>\n",
       "      <th>3.3</th>\n",
       "      <td>0.0</td>\n",
       "      <td>1986.826712</td>\n",
       "      <td>11132.924304</td>\n",
       "      <td>0.0</td>\n",
       "      <td>37.391130</td>\n",
       "    </tr>\n",
       "    <tr>\n",
       "      <th>3.6</th>\n",
       "      <td>0.0</td>\n",
       "      <td>1986.826712</td>\n",
       "      <td>11132.924304</td>\n",
       "      <td>0.0</td>\n",
       "      <td>37.391130</td>\n",
       "    </tr>\n",
       "    <tr>\n",
       "      <th>...</th>\n",
       "      <th>...</th>\n",
       "      <th>...</th>\n",
       "      <th>...</th>\n",
       "      <td>...</td>\n",
       "      <td>...</td>\n",
       "      <td>...</td>\n",
       "      <td>...</td>\n",
       "      <td>...</td>\n",
       "    </tr>\n",
       "    <tr>\n",
       "      <th rowspan=\"5\" valign=\"top\">2013-03-06 23:00:00</th>\n",
       "      <th rowspan=\"5\" valign=\"top\">198</th>\n",
       "      <th rowspan=\"5\" valign=\"top\">14.1</th>\n",
       "      <th>13.5</th>\n",
       "      <td>0.0</td>\n",
       "      <td>949.203421</td>\n",
       "      <td>5930.869005</td>\n",
       "      <td>0.0</td>\n",
       "      <td>28.105624</td>\n",
       "    </tr>\n",
       "    <tr>\n",
       "      <th>13.8</th>\n",
       "      <td>0.0</td>\n",
       "      <td>949.203421</td>\n",
       "      <td>5930.869005</td>\n",
       "      <td>0.0</td>\n",
       "      <td>28.105624</td>\n",
       "    </tr>\n",
       "    <tr>\n",
       "      <th>14.1</th>\n",
       "      <td>0.0</td>\n",
       "      <td>949.203421</td>\n",
       "      <td>5930.869005</td>\n",
       "      <td>0.0</td>\n",
       "      <td>28.105624</td>\n",
       "    </tr>\n",
       "    <tr>\n",
       "      <th>14.4</th>\n",
       "      <td>0.0</td>\n",
       "      <td>949.203421</td>\n",
       "      <td>5930.869005</td>\n",
       "      <td>0.0</td>\n",
       "      <td>28.105624</td>\n",
       "    </tr>\n",
       "    <tr>\n",
       "      <th>14.7</th>\n",
       "      <td>0.0</td>\n",
       "      <td>949.203421</td>\n",
       "      <td>5930.869005</td>\n",
       "      <td>0.0</td>\n",
       "      <td>28.105624</td>\n",
       "    </tr>\n",
       "  </tbody>\n",
       "</table>\n",
       "<p>32284224 rows × 5 columns</p>\n",
       "</div>"
      ],
      "text/plain": [
       "                                   profile       weight     p_nom_max   \n",
       "time                bus y    x                                          \n",
       "2013-03-01 00:00:00 0   4.2  2.4       0.0  1986.826712  11132.924304  \\\n",
       "                             2.7       0.0  1986.826712  11132.924304   \n",
       "                             3.0       0.0  1986.826712  11132.924304   \n",
       "                             3.3       0.0  1986.826712  11132.924304   \n",
       "                             3.6       0.0  1986.826712  11132.924304   \n",
       "...                                    ...          ...           ...   \n",
       "2013-03-06 23:00:00 198 14.1 13.5      0.0   949.203421   5930.869005   \n",
       "                             13.8      0.0   949.203421   5930.869005   \n",
       "                             14.1      0.0   949.203421   5930.869005   \n",
       "                             14.4      0.0   949.203421   5930.869005   \n",
       "                             14.7      0.0   949.203421   5930.869005   \n",
       "\n",
       "                                   potential  average_distance  \n",
       "time                bus y    x                                  \n",
       "2013-03-01 00:00:00 0   4.2  2.4         0.0         37.391130  \n",
       "                             2.7         0.0         37.391130  \n",
       "                             3.0         0.0         37.391130  \n",
       "                             3.3         0.0         37.391130  \n",
       "                             3.6         0.0         37.391130  \n",
       "...                                      ...               ...  \n",
       "2013-03-06 23:00:00 198 14.1 13.5        0.0         28.105624  \n",
       "                             13.8        0.0         28.105624  \n",
       "                             14.1        0.0         28.105624  \n",
       "                             14.4        0.0         28.105624  \n",
       "                             14.7        0.0         28.105624  \n",
       "\n",
       "[32284224 rows x 5 columns]"
      ]
     },
     "execution_count": 8,
     "metadata": {},
     "output_type": "execute_result"
    }
   ],
   "source": [
    "da.to_dataframe()\n"
   ]
  },
  {
   "cell_type": "code",
   "execution_count": 30,
   "metadata": {},
   "outputs": [
    {
     "name": "stdout",
     "output_type": "stream",
     "text": [
      "elec_s_10_ec_lcopt_Co2L-4H.nc\n",
      "MA\n",
      "PyPSA Network\n",
      "Components:\n",
      " - Bus: 30\n",
      " - Carrier: 18\n",
      " - Generator: 42\n",
      " - GlobalConstraint: 1\n",
      " - Line: 13\n",
      " - Link: 40\n",
      " - Load: 10\n",
      " - StorageUnit: 6\n",
      " - Store: 20\n",
      "Snapshots: 36\n",
      "elec_s_10_ec_lcopt_Co2L-4H.nc\n",
      "NG\n",
      "PyPSA Network\n",
      "Components:\n",
      " - Bus: 33\n",
      " - Carrier: 18\n",
      " - Generator: 42\n",
      " - GlobalConstraint: 1\n",
      " - Line: 11\n",
      " - Link: 44\n",
      " - Load: 11\n",
      " - StorageUnit: 2\n",
      " - Store: 22\n",
      "Snapshots: 36\n",
      "elec_s_10_ec_lcopt_Co2L-4H.nc\n",
      "NG_no_oil\n",
      "PyPSA Network\n",
      "Components:\n",
      " - Bus: 33\n",
      " - Carrier: 16\n",
      " - Generator: 40\n",
      " - GlobalConstraint: 1\n",
      " - Line: 11\n",
      " - Link: 44\n",
      " - Load: 11\n",
      " - StorageUnit: 2\n",
      " - Store: 22\n",
      "Snapshots: 36\n",
      "dict_keys([('MA', 'elec_s_10_ec_lcopt_Co2L-4H.nc'), ('NG', 'elec_s_10_ec_lcopt_Co2L-4H.nc'), ('NG_no_oil', 'elec_s_10_ec_lcopt_Co2L-4H.nc')])\n"
     ]
    }
   ],
   "source": [
    "for k,v in network_map.keys():\n",
    "    print(v)\n",
    "    print(k)\n",
    "    print(network_map.get((k,v)))\n",
    "\n",
    "# print(network_map.keys())\n",
    "# network_map.values()\n",
    "print(network_map.keys())"
   ]
  },
  {
   "cell_type": "code",
   "execution_count": null,
   "metadata": {},
   "outputs": [],
   "source": []
  }
 ],
 "metadata": {
  "kernelspec": {
   "display_name": "pypsa-earth",
   "language": "python",
   "name": "python3"
  },
  "language_info": {
   "codemirror_mode": {
    "name": "ipython",
    "version": 3
   },
   "file_extension": ".py",
   "mimetype": "text/x-python",
   "name": "python",
   "nbconvert_exporter": "python",
   "pygments_lexer": "ipython3",
   "version": "3.10.11"
  },
  "orig_nbformat": 4
 },
 "nbformat": 4,
 "nbformat_minor": 2
}
